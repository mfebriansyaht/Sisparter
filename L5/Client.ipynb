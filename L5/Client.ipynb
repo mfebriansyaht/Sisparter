{
 "cells": [
  {
   "cell_type": "code",
   "execution_count": null,
   "metadata": {},
   "outputs": [
    {
     "name": "stdout",
     "output_type": "stream",
     "text": [
      "Masukkan 'quit' untuk keluar\n",
      " -> Apa kabar\n",
      " -> Semoga sehat selalu\n"
     ]
    }
   ],
   "source": [
    "# import socket dan sys\n",
    "import socket\n",
    "import sys\n",
    "# fungsi utama\n",
    "def main():\n",
    "    # buat socket bertipe TCP\n",
    "    soc = socket.socket(socket.AF_INET, socket.SOCK_STREAM)\n",
    "    \n",
    "    # tentukan IP server target\n",
    "    host = \"192.168.43.80\n",
    "    \n",
    "    # tentukan por server\n",
    "    port = 55555\n",
    "\n",
    "    # lakukan koneksi ke server\n",
    "    try:\n",
    "        soc.connect((host,port))\n",
    "    except:\n",
    "        # print error\n",
    "        print(\"Koneksi error\")\n",
    "        # exit\n",
    "        sys.exit()\n",
    "    \n",
    "    # tampilkan menu, enter quit to exit\n",
    "    print(\"Masukkan 'quit' untuk keluar\")\n",
    "    message = input(\" -> \")\n",
    "\n",
    "    # selama pesan bukan \"quit\", lakukan loop forever\n",
    "    while message != 'quit':\n",
    "        # kirimkan pesan yang ditulis ke server\n",
    "        soc.sendall(message.encode('utf8'))\n",
    "        \n",
    "        # menu (user interface)\n",
    "        message = input(\" -> \")\n",
    "\n",
    "    # send \"quit\" ke server\n",
    "    soc.send(b'--quit--')\n",
    "\n",
    "# panggil fungsi utama\n",
    "if __name__ == \"__main__\":\n",
    "    main()"
   ]
  },
  {
   "cell_type": "code",
   "execution_count": null,
   "metadata": {},
   "outputs": [],
   "source": []
  },
  {
   "cell_type": "code",
   "execution_count": null,
   "metadata": {},
   "outputs": [],
   "source": []
  }
 ],
 "metadata": {
  "kernelspec": {
   "display_name": "Python 3",
   "language": "python",
   "name": "python3"
  },
  "language_info": {
   "codemirror_mode": {
    "name": "ipython",
    "version": 3
   },
   "file_extension": ".py",
   "mimetype": "text/x-python",
   "name": "python",
   "nbconvert_exporter": "python",
   "pygments_lexer": "ipython3",
   "version": "3.7.1"
  }
 },
 "nbformat": 4,
 "nbformat_minor": 2
}
